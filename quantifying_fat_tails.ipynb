{
  "cells": [
    {
      "cell_type": "markdown",
      "id": "00b70f24-d5ca-4a12-b3d3-d87e94c95c53",
      "metadata": {
        "id": "00b70f24-d5ca-4a12-b3d3-d87e94c95c53"
      },
      "source": [
        "### install packages"
      ]
    },
    {
      "cell_type": "code",
      "execution_count": 1,
      "id": "117681d2-ecfa-4e5f-9e69-79b6fc724b8b",
      "metadata": {
        "colab": {
          "base_uri": "https://localhost:8080/"
        },
        "id": "117681d2-ecfa-4e5f-9e69-79b6fc724b8b",
        "outputId": "68563267-eeeb-42a2-ccc9-61849092416b"
      },
      "outputs": [
        {
          "output_type": "stream",
          "name": "stdout",
          "text": [
            "Collecting powerlaw\n",
            "  Downloading powerlaw-1.5-py3-none-any.whl (24 kB)\n",
            "Requirement already satisfied: scipy in /usr/local/lib/python3.10/dist-packages (from powerlaw) (1.11.4)\n",
            "Requirement already satisfied: numpy in /usr/local/lib/python3.10/dist-packages (from powerlaw) (1.25.2)\n",
            "Requirement already satisfied: matplotlib in /usr/local/lib/python3.10/dist-packages (from powerlaw) (3.7.1)\n",
            "Requirement already satisfied: mpmath in /usr/local/lib/python3.10/dist-packages (from powerlaw) (1.3.0)\n",
            "Requirement already satisfied: contourpy>=1.0.1 in /usr/local/lib/python3.10/dist-packages (from matplotlib->powerlaw) (1.2.0)\n",
            "Requirement already satisfied: cycler>=0.10 in /usr/local/lib/python3.10/dist-packages (from matplotlib->powerlaw) (0.12.1)\n",
            "Requirement already satisfied: fonttools>=4.22.0 in /usr/local/lib/python3.10/dist-packages (from matplotlib->powerlaw) (4.50.0)\n",
            "Requirement already satisfied: kiwisolver>=1.0.1 in /usr/local/lib/python3.10/dist-packages (from matplotlib->powerlaw) (1.4.5)\n",
            "Requirement already satisfied: packaging>=20.0 in /usr/local/lib/python3.10/dist-packages (from matplotlib->powerlaw) (24.0)\n",
            "Requirement already satisfied: pillow>=6.2.0 in /usr/local/lib/python3.10/dist-packages (from matplotlib->powerlaw) (9.4.0)\n",
            "Requirement already satisfied: pyparsing>=2.3.1 in /usr/local/lib/python3.10/dist-packages (from matplotlib->powerlaw) (3.1.2)\n",
            "Requirement already satisfied: python-dateutil>=2.7 in /usr/local/lib/python3.10/dist-packages (from matplotlib->powerlaw) (2.8.2)\n",
            "Requirement already satisfied: six>=1.5 in /usr/local/lib/python3.10/dist-packages (from python-dateutil>=2.7->matplotlib->powerlaw) (1.16.0)\n",
            "Installing collected packages: powerlaw\n",
            "Successfully installed powerlaw-1.5\n"
          ]
        }
      ],
      "source": [
        "!pip install powerlaw\n",
        "import powerlaw\n",
        "import matplotlib.pyplot as plt\n",
        "import pandas as pd\n",
        "import numpy as np\n",
        "import yfinance as yf\n",
        "from scipy.stats import kurtosis"
      ]
    },
    {
      "cell_type": "code",
      "source": [
        "# List of stock tickers to download\n",
        "ticker_list = ['AAPL', 'GOOGL', 'MSFT']\n",
        "\n",
        "# Dictionary to store dataframes\n",
        "df_dict = {}\n",
        "\n",
        "# Download and format stock data\n",
        "for ticker in ticker_list:\n",
        "    # Download data\n",
        "    df = yf.download(ticker, start='2010-01-01', end='2023-12-01')\n",
        "\n",
        "    # Remove rows with NaN values and fill any gaps by carrying forward the last known value\n",
        "    df.dropna(inplace=True)\n",
        "    df.fillna(method='ffill', inplace=True)\n",
        "\n",
        "    # Calculate log returns and keep only that column\n",
        "    df['Log Return'] = np.log(df['Close'] / df['Close'].shift(1))\n",
        "    df = df[['Log Return']].dropna()  # Drop the first row as it will be NaN\n",
        "\n",
        "    # Store the data with only log returns\n",
        "    df_dict[ticker] = df\n",
        "\n",
        "for name, df in df_dict.items():\n",
        "    print(f\"Table for: {name}\")\n",
        "    print(df.head().to_string())"
      ],
      "metadata": {
        "colab": {
          "base_uri": "https://localhost:8080/"
        },
        "id": "Grwajj0zoIPN",
        "outputId": "46771c12-a4cf-4d26-f7ce-23e62696a602"
      },
      "id": "Grwajj0zoIPN",
      "execution_count": 2,
      "outputs": [
        {
          "output_type": "stream",
          "name": "stderr",
          "text": [
            "[*********************100%%**********************]  1 of 1 completed\n",
            "[*********************100%%**********************]  1 of 1 completed\n",
            "[*********************100%%**********************]  1 of 1 completed"
          ]
        },
        {
          "output_type": "stream",
          "name": "stdout",
          "text": [
            "Table for: AAPL\n",
            "            Log Return\n",
            "Date                  \n",
            "2010-01-05    0.001727\n",
            "2010-01-06   -0.016034\n",
            "2010-01-07   -0.001850\n",
            "2010-01-08    0.006626\n",
            "2010-01-11   -0.008861\n",
            "Table for: GOOGL\n",
            "            Log Return\n",
            "Date                  \n",
            "2010-01-05   -0.004413\n",
            "2010-01-06   -0.025532\n",
            "2010-01-07   -0.023555\n",
            "2010-01-08    0.013243\n",
            "2010-01-11   -0.001513\n",
            "Table for: MSFT\n",
            "            Log Return\n",
            "Date                  \n",
            "2010-01-05    0.000323\n",
            "2010-01-06   -0.006156\n",
            "2010-01-07   -0.010454\n",
            "2010-01-08    0.006873\n",
            "2010-01-11   -0.012802\n"
          ]
        },
        {
          "output_type": "stream",
          "name": "stderr",
          "text": [
            "\n"
          ]
        }
      ]
    },
    {
      "cell_type": "markdown",
      "id": "c1d0c606-90ff-482b-9caf-06bf5fb6809a",
      "metadata": {
        "id": "c1d0c606-90ff-482b-9caf-06bf5fb6809a"
      },
      "source": [
        "###Kurtosis"
      ]
    },
    {
      "cell_type": "code",
      "execution_count": 3,
      "id": "58b35d8c-58d6-4734-97a7-c116f0433b5b",
      "metadata": {
        "colab": {
          "base_uri": "https://localhost:8080/"
        },
        "id": "58b35d8c-58d6-4734-97a7-c116f0433b5b",
        "outputId": "7c12ca25-d2e3-449b-8049-04d8fb9a18ec"
      },
      "outputs": [
        {
          "output_type": "stream",
          "name": "stdout",
          "text": [
            "AAPL\n",
            "----\n",
            "kurtosis = 5.395563333704075\n",
            "\n",
            "GOOGL\n",
            "-----\n",
            "kurtosis = 7.647265763502716\n",
            "\n",
            "MSFT\n",
            "----\n",
            "kurtosis = 7.974291340094547\n",
            "\n"
          ]
        }
      ],
      "source": [
        "for ticker in ticker_list:\n",
        "    df = df_dict[ticker]\n",
        "\n",
        "    # print results\n",
        "    print(ticker)\n",
        "    print(\"-\"*len(ticker))\n",
        "    print(\"kurtosis = \" + str(kurtosis(df.iloc[:,0], fisher=True)))\n",
        "    print(\"\")\n"
      ]
    },
    {
      "cell_type": "markdown",
      "id": "d99cb686-21e1-45c2-a8b3-6f3cf939ac29",
      "metadata": {
        "id": "d99cb686-21e1-45c2-a8b3-6f3cf939ac29"
      },
      "source": [
        "###Taleb's Kappa Metric\n",
        " https://arxiv.org/abs/1802.05495"
      ]
    },
    {
      "cell_type": "code",
      "execution_count": 4,
      "id": "338faaf8-2a10-4db2-95d6-e730d1258e87",
      "metadata": {
        "id": "338faaf8-2a10-4db2-95d6-e730d1258e87"
      },
      "outputs": [],
      "source": [
        "def mean_abs_deviation(S):\n",
        "    \"\"\"\n",
        "        Computation of mean absolute deviation of an input sample S\n",
        "    \"\"\"\n",
        "\n",
        "    M = np.mean(np.abs(S - np.mean(S)))\n",
        "\n",
        "    return M"
      ]
    },
    {
      "cell_type": "code",
      "execution_count": 5,
      "id": "fb43d434-9164-463d-bba5-47d4b1b77fc7",
      "metadata": {
        "id": "fb43d434-9164-463d-bba5-47d4b1b77fc7"
      },
      "outputs": [],
      "source": [
        "def generate_n_sample(X,n):\n",
        "    \"\"\"\n",
        "        Function to generate n random samples of size len(X) from an array X\n",
        "    \"\"\"\n",
        "\n",
        "    # initialize sample\n",
        "    S_n=0\n",
        "\n",
        "    for i in range(n):\n",
        "\n",
        "        # ramdomly sample len(X) observations from X and add it to the sample\n",
        "        S_n = S_n + X[np.random.randint(len(X), size=int(np.round(len(X))))]\n",
        "\n",
        "    return S_n"
      ]
    },
    {
      "cell_type": "code",
      "execution_count": 6,
      "id": "27fae967-c83d-4610-a1fb-7926c0c24cbd",
      "metadata": {
        "id": "27fae967-c83d-4610-a1fb-7926c0c24cbd"
      },
      "outputs": [],
      "source": [
        "def kappa(X,n):\n",
        "    \"\"\"\n",
        "        Taleb's kappa metric from n0=1 as described here: https://arxiv.org/abs/1802.05495\n",
        "\n",
        "        Note: K_1n = kappa(1,n) = 2 - ((log(n)-log(1))/log(M_n/M_1)), where M_n denotes the mean absolute deviation of the sum of n random samples\n",
        "    \"\"\"\n",
        "\n",
        "    S_1 = X\n",
        "    S_n = generate_n_sample(X,n)\n",
        "\n",
        "    M_1 = mean_abs_deviation(S_1)\n",
        "    M_n = mean_abs_deviation(S_n)\n",
        "\n",
        "    K_1n = 2 - (np.log(n)/np.log(M_n/M_1))\n",
        "\n",
        "    return K_1n"
      ]
    },
    {
      "cell_type": "code",
      "execution_count": 7,
      "id": "2180cc7b-144c-4b47-9cd8-5410f0be568a",
      "metadata": {
        "colab": {
          "base_uri": "https://localhost:8080/"
        },
        "id": "2180cc7b-144c-4b47-9cd8-5410f0be568a",
        "outputId": "47489c6b-14bc-425a-e55c-216d174bfbd8"
      },
      "outputs": [
        {
          "output_type": "stream",
          "name": "stdout",
          "text": [
            "AAPL\n",
            "----\n",
            "kappa_1n = 0.1000010403824716\n",
            "\n",
            "GOOGL\n",
            "-----\n",
            "kappa_1n = 0.12688032800940552\n",
            "\n",
            "MSFT\n",
            "----\n",
            "kappa_1n = 0.10360562633595283\n",
            "\n"
          ]
        }
      ],
      "source": [
        "n = 100 # number of samples to include in kappa calculation\n",
        "\n",
        "for ticker in ticker_list:\n",
        "    df = df_dict[ticker]\n",
        "\n",
        "    # print results\n",
        "    print(ticker)\n",
        "    print(\"-\"*len(ticker))\n",
        "    print(\"kappa_1n = \" + str(kappa(df.iloc[:,0].to_numpy(), n)))\n",
        "    print(\"\")"
      ]
    },
    {
      "cell_type": "markdown",
      "id": "60fcbd66-8412-4b18-b0d2-8bdc4640eec0",
      "metadata": {
        "id": "60fcbd66-8412-4b18-b0d2-8bdc4640eec0"
      },
      "source": [
        "###compute mean k(1,100) of running calculation 5000x times"
      ]
    },
    {
      "cell_type": "code",
      "execution_count": 8,
      "id": "dc021df7-0d43-4e2a-9cdc-6e4f531468dd",
      "metadata": {
        "colab": {
          "base_uri": "https://localhost:8080/"
        },
        "id": "dc021df7-0d43-4e2a-9cdc-6e4f531468dd",
        "outputId": "4a96c477-288e-4bc6-c91a-f72183f44c02"
      },
      "outputs": [
        {
          "output_type": "stream",
          "name": "stdout",
          "text": [
            "AAPL\n",
            "----\n",
            "mean kappa_1n = 0.09884989471043883\n",
            "\n",
            "GOOGL\n",
            "-----\n",
            "mean kappa_1n = 0.12129985620482725\n",
            "\n",
            "MSFT\n",
            "----\n",
            "mean kappa_1n = 0.11093688202298997\n",
            "\n"
          ]
        }
      ],
      "source": [
        "num_runs = 5000\n",
        "\n",
        "kappa_dict = {}\n",
        "\n",
        "for ticker in ticker_list:\n",
        "    df = df_dict[ticker]\n",
        "\n",
        "    kappa_list = []\n",
        "    for i in range(num_runs):\n",
        "        kappa_list.append(kappa(df.iloc[:,0].to_numpy(), n))\n",
        "\n",
        "\n",
        "    kappa_dict[ticker] = np.array(kappa_list)\n",
        "\n",
        "    print(ticker)\n",
        "    print(\"-\"*len(ticker))\n",
        "    print(\"mean kappa_1n = \" + str(np.mean(kappa_dict[ticker])))\n",
        "    print(\"\")"
      ]
    }
  ],
  "metadata": {
    "kernelspec": {
      "display_name": "Python 3 (ipykernel)",
      "language": "python",
      "name": "python3"
    },
    "language_info": {
      "codemirror_mode": {
        "name": "ipython",
        "version": 3
      },
      "file_extension": ".py",
      "mimetype": "text/x-python",
      "name": "python",
      "nbconvert_exporter": "python",
      "pygments_lexer": "ipython3",
      "version": "3.9.18"
    },
    "colab": {
      "provenance": []
    }
  },
  "nbformat": 4,
  "nbformat_minor": 5
}